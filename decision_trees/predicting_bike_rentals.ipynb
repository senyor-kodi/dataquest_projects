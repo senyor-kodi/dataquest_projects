{
 "cells": [
  {
   "cell_type": "markdown",
   "source": [
    "# Predicting Bike Rentals\n",
    "\n",
    "Many U.S. cities have communal bike sharing stations where you can rent bicycles by the hour or day. Washington, D.C. is one of these cities. The District collects detailed data on the number of bicycles people rent by the hour and day.\n",
    "\n",
    "[Hadi Fanaee-T](http://www.fanaee.com/) compiled this data into a CSV file, which you'll work with in this project. The file contains 17380 rows, with each row representing the number of bike rentals for a single hour of a single day. You can download the data from the [University of California, Irvine's website](https://archive.ics.uci.edu/ml/datasets/Bike+Sharing+Dataset). "
   ],
   "metadata": {
    "collapsed": true
   }
  },
  {
   "cell_type": "markdown",
   "source": [
    "Description of columns:\n",
    "\n",
    "    instant - A unique sequential ID number for each row\n",
    "    dteday - The date of the rentals\n",
    "    season - The season in which the rentals occurred\n",
    "    yr - The year the rentals occurred\n",
    "    mnth - The month the rentals occurred\n",
    "    hr - The hour the rentals occurred\n",
    "    holiday - Whether or not the day was a holiday\n",
    "    weekday - The day of the week (as a number, 0 to 7)\n",
    "    workingday - Whether or not the day was a working day\n",
    "    weathersit - The weather (as a categorical variable)\n",
    "    temp - The temperature, on a 0-1 scale\n",
    "    atemp - The adjusted temperature\n",
    "    hum - The humidity, on a 0-1 scale\n",
    "    windspeed - The wind speed, on a 0-1 scale\n",
    "    casual - The number of casual riders (people who hadn't previously signed up with the bike sharing program)\n",
    "    registered - The number of registered riders (people who had already signed up)\n",
    "    cnt - The total number of bike rentals (casual + registered)\n"
   ],
   "metadata": {}
  },
  {
   "cell_type": "code",
   "execution_count": 2,
   "source": [
    "import pandas as pd\r\n",
    "import seaborn as sns\r\n",
    "import matplotlib.pyplot as plt\r\n",
    "import numpy as np\r\n",
    "\r\n",
    "bike_rentals = pd.read_csv('bike_rental_hour.csv')"
   ],
   "outputs": [],
   "metadata": {
    "collapsed": false
   }
  },
  {
   "cell_type": "code",
   "execution_count": 3,
   "source": [
    "bike_rentals.head()"
   ],
   "outputs": [
    {
     "output_type": "execute_result",
     "data": {
      "text/plain": [
       "   instant      dteday  season  yr  mnth  hr  holiday  weekday  workingday  \\\n",
       "0        1  2011-01-01       1   0     1   0        0        6           0   \n",
       "1        2  2011-01-01       1   0     1   1        0        6           0   \n",
       "2        3  2011-01-01       1   0     1   2        0        6           0   \n",
       "3        4  2011-01-01       1   0     1   3        0        6           0   \n",
       "4        5  2011-01-01       1   0     1   4        0        6           0   \n",
       "\n",
       "   weathersit  temp   atemp   hum  windspeed  casual  registered  cnt  \n",
       "0           1  0.24  0.2879  0.81        0.0       3          13   16  \n",
       "1           1  0.22  0.2727  0.80        0.0       8          32   40  \n",
       "2           1  0.22  0.2727  0.80        0.0       5          27   32  \n",
       "3           1  0.24  0.2879  0.75        0.0       3          10   13  \n",
       "4           1  0.24  0.2879  0.75        0.0       0           1    1  "
      ],
      "text/html": [
       "<div>\n",
       "<style scoped>\n",
       "    .dataframe tbody tr th:only-of-type {\n",
       "        vertical-align: middle;\n",
       "    }\n",
       "\n",
       "    .dataframe tbody tr th {\n",
       "        vertical-align: top;\n",
       "    }\n",
       "\n",
       "    .dataframe thead th {\n",
       "        text-align: right;\n",
       "    }\n",
       "</style>\n",
       "<table border=\"1\" class=\"dataframe\">\n",
       "  <thead>\n",
       "    <tr style=\"text-align: right;\">\n",
       "      <th></th>\n",
       "      <th>instant</th>\n",
       "      <th>dteday</th>\n",
       "      <th>season</th>\n",
       "      <th>yr</th>\n",
       "      <th>mnth</th>\n",
       "      <th>hr</th>\n",
       "      <th>holiday</th>\n",
       "      <th>weekday</th>\n",
       "      <th>workingday</th>\n",
       "      <th>weathersit</th>\n",
       "      <th>temp</th>\n",
       "      <th>atemp</th>\n",
       "      <th>hum</th>\n",
       "      <th>windspeed</th>\n",
       "      <th>casual</th>\n",
       "      <th>registered</th>\n",
       "      <th>cnt</th>\n",
       "    </tr>\n",
       "  </thead>\n",
       "  <tbody>\n",
       "    <tr>\n",
       "      <th>0</th>\n",
       "      <td>1</td>\n",
       "      <td>2011-01-01</td>\n",
       "      <td>1</td>\n",
       "      <td>0</td>\n",
       "      <td>1</td>\n",
       "      <td>0</td>\n",
       "      <td>0</td>\n",
       "      <td>6</td>\n",
       "      <td>0</td>\n",
       "      <td>1</td>\n",
       "      <td>0.24</td>\n",
       "      <td>0.2879</td>\n",
       "      <td>0.81</td>\n",
       "      <td>0.0</td>\n",
       "      <td>3</td>\n",
       "      <td>13</td>\n",
       "      <td>16</td>\n",
       "    </tr>\n",
       "    <tr>\n",
       "      <th>1</th>\n",
       "      <td>2</td>\n",
       "      <td>2011-01-01</td>\n",
       "      <td>1</td>\n",
       "      <td>0</td>\n",
       "      <td>1</td>\n",
       "      <td>1</td>\n",
       "      <td>0</td>\n",
       "      <td>6</td>\n",
       "      <td>0</td>\n",
       "      <td>1</td>\n",
       "      <td>0.22</td>\n",
       "      <td>0.2727</td>\n",
       "      <td>0.80</td>\n",
       "      <td>0.0</td>\n",
       "      <td>8</td>\n",
       "      <td>32</td>\n",
       "      <td>40</td>\n",
       "    </tr>\n",
       "    <tr>\n",
       "      <th>2</th>\n",
       "      <td>3</td>\n",
       "      <td>2011-01-01</td>\n",
       "      <td>1</td>\n",
       "      <td>0</td>\n",
       "      <td>1</td>\n",
       "      <td>2</td>\n",
       "      <td>0</td>\n",
       "      <td>6</td>\n",
       "      <td>0</td>\n",
       "      <td>1</td>\n",
       "      <td>0.22</td>\n",
       "      <td>0.2727</td>\n",
       "      <td>0.80</td>\n",
       "      <td>0.0</td>\n",
       "      <td>5</td>\n",
       "      <td>27</td>\n",
       "      <td>32</td>\n",
       "    </tr>\n",
       "    <tr>\n",
       "      <th>3</th>\n",
       "      <td>4</td>\n",
       "      <td>2011-01-01</td>\n",
       "      <td>1</td>\n",
       "      <td>0</td>\n",
       "      <td>1</td>\n",
       "      <td>3</td>\n",
       "      <td>0</td>\n",
       "      <td>6</td>\n",
       "      <td>0</td>\n",
       "      <td>1</td>\n",
       "      <td>0.24</td>\n",
       "      <td>0.2879</td>\n",
       "      <td>0.75</td>\n",
       "      <td>0.0</td>\n",
       "      <td>3</td>\n",
       "      <td>10</td>\n",
       "      <td>13</td>\n",
       "    </tr>\n",
       "    <tr>\n",
       "      <th>4</th>\n",
       "      <td>5</td>\n",
       "      <td>2011-01-01</td>\n",
       "      <td>1</td>\n",
       "      <td>0</td>\n",
       "      <td>1</td>\n",
       "      <td>4</td>\n",
       "      <td>0</td>\n",
       "      <td>6</td>\n",
       "      <td>0</td>\n",
       "      <td>1</td>\n",
       "      <td>0.24</td>\n",
       "      <td>0.2879</td>\n",
       "      <td>0.75</td>\n",
       "      <td>0.0</td>\n",
       "      <td>0</td>\n",
       "      <td>1</td>\n",
       "      <td>1</td>\n",
       "    </tr>\n",
       "  </tbody>\n",
       "</table>\n",
       "</div>"
      ]
     },
     "metadata": {},
     "execution_count": 3
    }
   ],
   "metadata": {
    "collapsed": false
   }
  },
  {
   "cell_type": "code",
   "execution_count": 4,
   "source": [
    "bike_rentals.info()"
   ],
   "outputs": [
    {
     "output_type": "stream",
     "name": "stdout",
     "text": [
      "<class 'pandas.core.frame.DataFrame'>\n",
      "RangeIndex: 17379 entries, 0 to 17378\n",
      "Data columns (total 17 columns):\n",
      "instant       17379 non-null int64\n",
      "dteday        17379 non-null object\n",
      "season        17379 non-null int64\n",
      "yr            17379 non-null int64\n",
      "mnth          17379 non-null int64\n",
      "hr            17379 non-null int64\n",
      "holiday       17379 non-null int64\n",
      "weekday       17379 non-null int64\n",
      "workingday    17379 non-null int64\n",
      "weathersit    17379 non-null int64\n",
      "temp          17379 non-null float64\n",
      "atemp         17379 non-null float64\n",
      "hum           17379 non-null float64\n",
      "windspeed     17379 non-null float64\n",
      "casual        17379 non-null int64\n",
      "registered    17379 non-null int64\n",
      "cnt           17379 non-null int64\n",
      "dtypes: float64(4), int64(12), object(1)\n",
      "memory usage: 2.3+ MB\n"
     ]
    }
   ],
   "metadata": {
    "collapsed": false,
    "scrolled": true
   }
  },
  {
   "cell_type": "markdown",
   "source": [
    "We will now take a closer look at the density distribution of the total number of bike rentals using a histogram. "
   ],
   "metadata": {}
  },
  {
   "cell_type": "code",
   "execution_count": 5,
   "source": [
    "sns.set_style('white')\r\n",
    "%matplotlib inline\r\n",
    "\r\n",
    "ax = sns.distplot(bike_rentals.cnt, kde = False, bins = 15)\r\n",
    "sns.despine()\r\n",
    "ax.set(xlabel='total number of bike rentals', ylabel='count')\r\n",
    "plt.xlim(0,1000)\r\n",
    "plt.show()"
   ],
   "outputs": [
    {
     "output_type": "display_data",
     "data": {
      "text/plain": [
       "<matplotlib.figure.Figure at 0x7fa7cca4f5c0>"
      ],
      "image/png": "[encoded data removed]"
     },
     "metadata": {}
    }
   ],
   "metadata": {
    "collapsed": false,
    "scrolled": true
   }
  },
  {
   "cell_type": "markdown",
   "source": [
    "Now we will examine the correlations between the different columns of our dataframe. First we present the correlation matrix via a seaborn heatmap and below are the actual correlations. "
   ],
   "metadata": {}
  },
  {
   "cell_type": "code",
   "execution_count": 6,
   "source": [
    "corr = bike_rentals.corr()\n",
    "\n",
    "# Explore correlations between cnt and all the other columns \n",
    "corr = bike_rentals.corr()\n",
    "\n",
    "# Plot a heatmap to better show correlations \n",
    "fig = plt.figure(figsize = (10,8))\n",
    "mask = corr == 1\n",
    "heatmap = sns.heatmap(abs(corr), mask = mask, cmap = 'Reds')"
   ],
   "outputs": [
    {
     "output_type": "display_data",
     "data": {
      "text/plain": [
       "<matplotlib.figure.Figure at 0x7fa80805e908>"
      ],
      "image/png": "[encoded data removed]"
     },
     "metadata": {}
    }
   ],
   "metadata": {
    "collapsed": false
   }
  },
  {
   "cell_type": "code",
   "execution_count": 7,
   "source": [
    "print(corr)"
   ],
   "outputs": [
    {
     "output_type": "stream",
     "name": "stdout",
     "text": [
      "             instant    season        yr      mnth        hr   holiday  \\\n",
      "instant     1.000000  0.404046  0.866014  0.489164 -0.004775  0.014723   \n",
      "season      0.404046  1.000000 -0.010742  0.830386 -0.006117 -0.009585   \n",
      "yr          0.866014 -0.010742  1.000000 -0.010473 -0.003867  0.006692   \n",
      "mnth        0.489164  0.830386 -0.010473  1.000000 -0.005772  0.018430   \n",
      "hr         -0.004775 -0.006117 -0.003867 -0.005772  1.000000  0.000479   \n",
      "holiday     0.014723 -0.009585  0.006692  0.018430  0.000479  1.000000   \n",
      "weekday     0.001357 -0.002335 -0.004485  0.010400 -0.003498 -0.102088   \n",
      "workingday -0.003416  0.013743 -0.002196 -0.003477  0.002285 -0.252471   \n",
      "weathersit -0.014198 -0.014524 -0.019157  0.005400 -0.020203 -0.017036   \n",
      "temp        0.136178  0.312025  0.040913  0.201691  0.137603 -0.027340   \n",
      "atemp       0.137615  0.319380  0.039222  0.208096  0.133750 -0.030973   \n",
      "hum         0.009577  0.150625 -0.083546  0.164411 -0.276498 -0.010588   \n",
      "windspeed  -0.074505 -0.149773 -0.008740 -0.135386  0.137252  0.003988   \n",
      "casual      0.158295  0.120206  0.142779  0.068457  0.301202  0.031564   \n",
      "registered  0.282046  0.174226  0.253684  0.122273  0.374141 -0.047345   \n",
      "cnt         0.278379  0.178056  0.250495  0.120638  0.394071 -0.030927   \n",
      "\n",
      "             weekday  workingday  weathersit      temp     atemp       hum  \\\n",
      "instant     0.001357   -0.003416   -0.014198  0.136178  0.137615  0.009577   \n",
      "season     -0.002335    0.013743   -0.014524  0.312025  0.319380  0.150625   \n",
      "yr         -0.004485   -0.002196   -0.019157  0.040913  0.039222 -0.083546   \n",
      "mnth        0.010400   -0.003477    0.005400  0.201691  0.208096  0.164411   \n",
      "hr         -0.003498    0.002285   -0.020203  0.137603  0.133750 -0.276498   \n",
      "holiday    -0.102088   -0.252471   -0.017036 -0.027340 -0.030973 -0.010588   \n",
      "weekday     1.000000    0.035955    0.003311 -0.001795 -0.008821 -0.037158   \n",
      "workingday  0.035955    1.000000    0.044672  0.055390  0.054667  0.015688   \n",
      "weathersit  0.003311    0.044672    1.000000 -0.102640 -0.105563  0.418130   \n",
      "temp       -0.001795    0.055390   -0.102640  1.000000  0.987672 -0.069881   \n",
      "atemp      -0.008821    0.054667   -0.105563  0.987672  1.000000 -0.051918   \n",
      "hum        -0.037158    0.015688    0.418130 -0.069881 -0.051918  1.000000   \n",
      "windspeed   0.011502   -0.011830    0.026226 -0.023125 -0.062336 -0.290105   \n",
      "casual      0.032721   -0.300942   -0.152628  0.459616  0.454080 -0.347028   \n",
      "registered  0.021578    0.134326   -0.120966  0.335361  0.332559 -0.273933   \n",
      "cnt         0.026900    0.030284   -0.142426  0.404772  0.400929 -0.322911   \n",
      "\n",
      "            windspeed    casual  registered       cnt  \n",
      "instant     -0.074505  0.158295    0.282046  0.278379  \n",
      "season      -0.149773  0.120206    0.174226  0.178056  \n",
      "yr          -0.008740  0.142779    0.253684  0.250495  \n",
      "mnth        -0.135386  0.068457    0.122273  0.120638  \n",
      "hr           0.137252  0.301202    0.374141  0.394071  \n",
      "holiday      0.003988  0.031564   -0.047345 -0.030927  \n",
      "weekday      0.011502  0.032721    0.021578  0.026900  \n",
      "workingday  -0.011830 -0.300942    0.134326  0.030284  \n",
      "weathersit   0.026226 -0.152628   -0.120966 -0.142426  \n",
      "temp        -0.023125  0.459616    0.335361  0.404772  \n",
      "atemp       -0.062336  0.454080    0.332559  0.400929  \n",
      "hum         -0.290105 -0.347028   -0.273933 -0.322911  \n",
      "windspeed    1.000000  0.090287    0.082321  0.093234  \n",
      "casual       0.090287  1.000000    0.506618  0.694564  \n",
      "registered   0.082321  0.506618    1.000000  0.972151  \n",
      "cnt          0.093234  0.694564    0.972151  1.000000  \n"
     ]
    }
   ],
   "metadata": {
    "collapsed": false
   }
  },
  {
   "cell_type": "code",
   "execution_count": 8,
   "source": [
    "# assign labels to segments of time in a day\n",
    "def assign_label(hour):\n",
    "    if 6 <= hour and hour < 12:\n",
    "        return 1\n",
    "    elif 12 <= hour and hour < 18:\n",
    "        return 2\n",
    "    elif 18 <= hour and hour < 24:\n",
    "        return 3\n",
    "    elif 0 <= hour and hour < 6:\n",
    "        return 4"
   ],
   "outputs": [],
   "metadata": {
    "collapsed": false
   }
  },
  {
   "cell_type": "code",
   "execution_count": 9,
   "source": [
    "#create new column usign assign_label function\n",
    "bike_rentals['time_label'] = bike_rentals.hr.apply(assign_label)"
   ],
   "outputs": [],
   "metadata": {
    "collapsed": true
   }
  },
  {
   "cell_type": "markdown",
   "source": [
    "## Error metric\n",
    "\n",
    "The mean squared error metric makes the most sense to evaluate our error. MSE works on continuous numeric data, which fits our data quite well.\n",
    "\n"
   ],
   "metadata": {}
  },
  {
   "cell_type": "markdown",
   "source": [
    "## Selecting train and test datasets\n"
   ],
   "metadata": {}
  },
  {
   "cell_type": "code",
   "execution_count": 10,
   "source": [
    "# the plebeian way\n",
    "train = bike_rentals.sample(frac=.8) #train dataset with 80% of rows\n",
    "test = bike_rentals.loc[~bike_rentals.index.isin(train.index)]\n"
   ],
   "outputs": [],
   "metadata": {
    "collapsed": true
   }
  },
  {
   "cell_type": "code",
   "execution_count": 11,
   "source": [
    "train.shape, test.shape"
   ],
   "outputs": [
    {
     "output_type": "execute_result",
     "data": {
      "text/plain": [
       "((13903, 18), (3476, 18))"
      ]
     },
     "metadata": {},
     "execution_count": 11
    }
   ],
   "metadata": {
    "collapsed": false,
    "scrolled": true
   }
  },
  {
   "cell_type": "code",
   "execution_count": 12,
   "source": [
    "# the patrician way\n",
    "from sklearn.model_selection import train_test_split\n",
    "\n",
    "#split dataset 80% train and 20% test\n",
    "x_train, x_test, y_train, y_test = train_test_split(bike_rentals.drop('cnt', axis=1),\n",
    "                                                   bike_rentals.cnt, train_size = 0.8,\n",
    "                                                   random_state = 1)\n",
    "\n",
    "#split train dataset 75% train and 25% cross-validation\n",
    "x_train, x_val, y_train, y_val = train_test_split(x_train,\n",
    "                                                   y_train, train_size = 0.75,\n",
    "                                                   random_state = 1)\n",
    "x_train.shape, x_test.shape, x_val.shape\n"
   ],
   "outputs": [
    {
     "output_type": "execute_result",
     "data": {
      "text/plain": [
       "((10427, 17), (3476, 17), (3476, 17))"
      ]
     },
     "metadata": {},
     "execution_count": 12
    }
   ],
   "metadata": {
    "collapsed": false
   }
  },
  {
   "cell_type": "code",
   "execution_count": 13,
   "source": [
    "# features\n",
    "features = ['season', 'yr', 'mnth', 'hr', 'weathersit', 'temp', 'atemp', \n",
    "            'hum', 'windspeed', 'time_label']"
   ],
   "outputs": [],
   "metadata": {
    "collapsed": true
   }
  },
  {
   "cell_type": "markdown",
   "source": [
    "## Linear regression"
   ],
   "metadata": {}
  },
  {
   "cell_type": "code",
   "execution_count": 14,
   "source": [
    "from sklearn.linear_model import LinearRegression\n",
    "from sklearn.metrics import mean_squared_error\n",
    "\n",
    "l = LinearRegression()\n",
    "l.fit(x_train[features], y_train)\n",
    "linear_predictions_train = l.predict(x_train[features])\n",
    "linear_predictions_val = l.predict(x_val[features])\n",
    "mse_linear_train = mean_squared_error(y_train, linear_predictions_train)\n",
    "mse_linear_val = mean_squared_error(y_val, linear_predictions_val)\n",
    "\n",
    "print('''The training mse of the linear regression model is: {}, \n",
    "      The cross validation linear regression mse is: {}.'''.format(mse_linear_train, mse_linear_val))"
   ],
   "outputs": [
    {
     "output_type": "stream",
     "name": "stdout",
     "text": [
      "The training mse of the model is: 17674.747357254582, \n",
      "      The cross validation mse is: 17046.647829904014.\n"
     ]
    }
   ],
   "metadata": {
    "collapsed": false,
    "scrolled": true
   }
  },
  {
   "cell_type": "markdown",
   "source": [
    "The MSE of for the linear regression of both the traininig and cross-validation models are rather high. We will need to use different methods to try and reduce it.  "
   ],
   "metadata": {}
  },
  {
   "cell_type": "markdown",
   "source": [
    "## Decision tree regressor"
   ],
   "metadata": {
    "collapsed": true
   }
  },
  {
   "cell_type": "code",
   "execution_count": 22,
   "source": [
    "from sklearn.tree import DecisionTreeRegressor\n",
    "list_mse_tree_train = []\n",
    "list_mse_tree_val = []\n",
    "\n",
    "for leaf in range(1,25):\n",
    "    d = DecisionTreeRegressor(min_samples_leaf=leaf, random_state=1)\n",
    "    d.fit(x_train[features], y_train)\n",
    "    tree_predictions_train = d.predict(x_train[features])\n",
    "    tree_predictions_val = d.predict(x_val[features])\n",
    "    mse_tree_train = mean_squared_error(y_train, tree_predictions_train)\n",
    "    mse_tree_val = mean_squared_error(y_val, tree_predictions_val)\n",
    "    \n",
    "    list_mse_tree_train.append(mse_tree_train)\n",
    "    list_mse_tree_val.append(mse_tree_val)\n",
    "    \n",
    "    print('''With a minimum leaf number of {}, the decision tree regressor training mse of the model is: {}, \n",
    "          The cross validation decision tree regressor mse is: {}.'''.format(leaf,mse_tree_train, mse_tree_val))"
   ],
   "outputs": [
    {
     "output_type": "stream",
     "name": "stdout",
     "text": [
      "With a minimum leaf number of 1, the decision tree regressor training mse of the model is: 50.40483040823503, \n",
      "          The cross validation decision tree regressor mse is: 13102.32214550569.\n",
      "With a minimum leaf number of 2, the decision tree regressor training mse of the model is: 1528.1480531312939, \n",
      "          The cross validation decision tree regressor mse is: 11935.098117248433.\n",
      "With a minimum leaf number of 3, the decision tree regressor training mse of the model is: 2672.693851584942, \n",
      "          The cross validation decision tree regressor mse is: 10685.341929944303.\n",
      "With a minimum leaf number of 4, the decision tree regressor training mse of the model is: 3493.2412159138134, \n",
      "          The cross validation decision tree regressor mse is: 10230.315865030276.\n",
      "With a minimum leaf number of 5, the decision tree regressor training mse of the model is: 4104.4785979408, \n",
      "          The cross validation decision tree regressor mse is: 9834.878776689486.\n",
      "With a minimum leaf number of 6, the decision tree regressor training mse of the model is: 4613.999180598128, \n",
      "          The cross validation decision tree regressor mse is: 9445.548751445484.\n",
      "With a minimum leaf number of 7, the decision tree regressor training mse of the model is: 4949.532467995811, \n",
      "          The cross validation decision tree regressor mse is: 9263.026675899358.\n",
      "With a minimum leaf number of 8, the decision tree regressor training mse of the model is: 5207.908467299806, \n",
      "          The cross validation decision tree regressor mse is: 8908.317795151157.\n",
      "With a minimum leaf number of 9, the decision tree regressor training mse of the model is: 5408.426742939888, \n",
      "          The cross validation decision tree regressor mse is: 8606.10651397622.\n",
      "With a minimum leaf number of 10, the decision tree regressor training mse of the model is: 5665.689343620015, \n",
      "          The cross validation decision tree regressor mse is: 8566.721583499206.\n",
      "With a minimum leaf number of 11, the decision tree regressor training mse of the model is: 5868.0609214296865, \n",
      "          The cross validation decision tree regressor mse is: 8538.927254642027.\n",
      "With a minimum leaf number of 12, the decision tree regressor training mse of the model is: 6075.556316655506, \n",
      "          The cross validation decision tree regressor mse is: 8432.599512982046.\n",
      "With a minimum leaf number of 13, the decision tree regressor training mse of the model is: 6167.809153405228, \n",
      "          The cross validation decision tree regressor mse is: 8311.096982067329.\n",
      "With a minimum leaf number of 14, the decision tree regressor training mse of the model is: 6284.030085622549, \n",
      "          The cross validation decision tree regressor mse is: 8309.234774373508.\n",
      "With a minimum leaf number of 15, the decision tree regressor training mse of the model is: 6361.915733020754, \n",
      "          The cross validation decision tree regressor mse is: 8320.394579924134.\n",
      "With a minimum leaf number of 16, the decision tree regressor training mse of the model is: 6461.0642045437635, \n",
      "          The cross validation decision tree regressor mse is: 8245.957057172012.\n",
      "With a minimum leaf number of 17, the decision tree regressor training mse of the model is: 6626.224297847237, \n",
      "          The cross validation decision tree regressor mse is: 8212.062684929642.\n",
      "With a minimum leaf number of 18, the decision tree regressor training mse of the model is: 6714.320015781224, \n",
      "          The cross validation decision tree regressor mse is: 8119.338933638261.\n",
      "With a minimum leaf number of 19, the decision tree regressor training mse of the model is: 6787.792478625228, \n",
      "          The cross validation decision tree regressor mse is: 8113.1998786157055.\n",
      "With a minimum leaf number of 20, the decision tree regressor training mse of the model is: 6867.594768342589, \n",
      "          The cross validation decision tree regressor mse is: 8122.609915100327.\n",
      "With a minimum leaf number of 21, the decision tree regressor training mse of the model is: 6943.53568280759, \n",
      "          The cross validation decision tree regressor mse is: 8234.766801130483.\n",
      "With a minimum leaf number of 22, the decision tree regressor training mse of the model is: 7024.1642041473815, \n",
      "          The cross validation decision tree regressor mse is: 8118.154650121274.\n",
      "With a minimum leaf number of 23, the decision tree regressor training mse of the model is: 7068.322404518415, \n",
      "          The cross validation decision tree regressor mse is: 8038.149135631992.\n",
      "With a minimum leaf number of 24, the decision tree regressor training mse of the model is: 7100.821798195137, \n",
      "          The cross validation decision tree regressor mse is: 8034.502624599544.\n"
     ]
    }
   ],
   "metadata": {
    "collapsed": false,
    "scrolled": true
   }
  },
  {
   "cell_type": "code",
   "execution_count": 24,
   "source": [
    "plt.plot(range(1, 25), list_mse_tree_train, color = 'red', label = 'training error')\n",
    "plt.plot(range(1, 25), list_mse_tree_val, color = 'green', label = 'cross validation error')\n",
    "plt.xlabel('min_samples_leaf')\n",
    "plt.ylabel('mean squared error')\n",
    "plt.legend(loc = 'lower right')"
   ],
   "outputs": [
    {
     "output_type": "execute_result",
     "data": {
      "text/plain": [
       "<matplotlib.legend.Legend at 0x7fa7c990c860>"
      ]
     },
     "metadata": {},
     "execution_count": 24
    },
    {
     "output_type": "display_data",
     "data": {
      "text/plain": [
       "<matplotlib.figure.Figure at 0x7fa7c9abc4a8>"
      ],
      "image/png": "[encoded data removed]"
     },
     "metadata": {}
    }
   ],
   "metadata": {
    "collapsed": false
   }
  },
  {
   "cell_type": "markdown",
   "source": [
    "The train decision tree regressor performs better than the cross validation in all cases. It is interesting to note that the cross-validation performs better as the minimum leaf number increases, while the train performs worse. "
   ],
   "metadata": {}
  },
  {
   "cell_type": "markdown",
   "source": [
    "## Random forest regressor"
   ],
   "metadata": {}
  },
  {
   "cell_type": "code",
   "execution_count": 26,
   "source": [
    "from sklearn.ensemble import RandomForestRegressor \n",
    "\n",
    "list_mse_forest_train = []\n",
    "list_mse_forest_val = []\n",
    "\n",
    "for leaf in range(1,25):\n",
    "    f = RandomForestRegressor(min_samples_leaf=leaf, random_state=1)\n",
    "    f.fit(x_train[features], y_train)\n",
    "    forest_predictions_train = f.predict(x_train[features])\n",
    "    forest_predictions_val = f.predict(x_val[features])\n",
    "    mse_forest_train = mean_squared_error(y_train, forest_predictions_train)\n",
    "    mse_forest_val = mean_squared_error(y_val, forest_predictions_val)\n",
    "    \n",
    "    list_mse_forest_train.append(mse_forest_train)\n",
    "    list_mse_forest_val.append(mse_forest_val)\n",
    "    \n",
    "    print('''With a minimum leaf number of {}, the decision tree regressor training mse of the model is: {}, \n",
    "          The cross validation decision tree regressor mse is: {}.'''.format(leaf,mse_forest_train, mse_forest_val))"
   ],
   "outputs": [
    {
     "output_type": "stream",
     "name": "stdout",
     "text": [
      "With a minimum leaf number of 1, the decision tree regressor training mse of the model is: 1469.4076134262812, \n",
      "          The cross validation decision tree regressor mse is: 7955.94718762886.\n",
      "With a minimum leaf number of 2, the decision tree regressor training mse of the model is: 2375.8918745635633, \n",
      "          The cross validation decision tree regressor mse is: 7810.9707572083535.\n",
      "With a minimum leaf number of 3, the decision tree regressor training mse of the model is: 3253.3104805240714, \n",
      "          The cross validation decision tree regressor mse is: 7774.224352812954.\n",
      "With a minimum leaf number of 4, the decision tree regressor training mse of the model is: 3854.3721251466673, \n",
      "          The cross validation decision tree regressor mse is: 7657.758733120381.\n",
      "With a minimum leaf number of 5, the decision tree regressor training mse of the model is: 4357.287852454342, \n",
      "          The cross validation decision tree regressor mse is: 7529.87469871217.\n",
      "With a minimum leaf number of 6, the decision tree regressor training mse of the model is: 4748.5287097456685, \n",
      "          The cross validation decision tree regressor mse is: 7466.375249154114.\n",
      "With a minimum leaf number of 7, the decision tree regressor training mse of the model is: 5049.049638209232, \n",
      "          The cross validation decision tree regressor mse is: 7394.801981946449.\n",
      "With a minimum leaf number of 8, the decision tree regressor training mse of the model is: 5325.542689240137, \n",
      "          The cross validation decision tree regressor mse is: 7403.117658243561.\n",
      "With a minimum leaf number of 9, the decision tree regressor training mse of the model is: 5524.277839448267, \n",
      "          The cross validation decision tree regressor mse is: 7339.838408171871.\n",
      "With a minimum leaf number of 10, the decision tree regressor training mse of the model is: 5679.718057449925, \n",
      "          The cross validation decision tree regressor mse is: 7316.1864809267545.\n",
      "With a minimum leaf number of 11, the decision tree regressor training mse of the model is: 5862.289036706682, \n",
      "          The cross validation decision tree regressor mse is: 7315.888289034674.\n",
      "With a minimum leaf number of 12, the decision tree regressor training mse of the model is: 6027.639521090809, \n",
      "          The cross validation decision tree regressor mse is: 7373.952012423606.\n",
      "With a minimum leaf number of 13, the decision tree regressor training mse of the model is: 6194.120493353276, \n",
      "          The cross validation decision tree regressor mse is: 7393.214440759876.\n",
      "With a minimum leaf number of 14, the decision tree regressor training mse of the model is: 6311.652344217838, \n",
      "          The cross validation decision tree regressor mse is: 7409.454113702997.\n",
      "With a minimum leaf number of 15, the decision tree regressor training mse of the model is: 6402.055350854296, \n",
      "          The cross validation decision tree regressor mse is: 7419.253522203635.\n",
      "With a minimum leaf number of 16, the decision tree regressor training mse of the model is: 6508.273803159892, \n",
      "          The cross validation decision tree regressor mse is: 7385.14437240122.\n",
      "With a minimum leaf number of 17, the decision tree regressor training mse of the model is: 6621.4816946954115, \n",
      "          The cross validation decision tree regressor mse is: 7428.241349324956.\n",
      "With a minimum leaf number of 18, the decision tree regressor training mse of the model is: 6726.104924837903, \n",
      "          The cross validation decision tree regressor mse is: 7446.430471910883.\n",
      "With a minimum leaf number of 19, the decision tree regressor training mse of the model is: 6782.820763659406, \n",
      "          The cross validation decision tree regressor mse is: 7420.28834054914.\n",
      "With a minimum leaf number of 20, the decision tree regressor training mse of the model is: 6847.1224845334855, \n",
      "          The cross validation decision tree regressor mse is: 7434.699605696731.\n",
      "With a minimum leaf number of 21, the decision tree regressor training mse of the model is: 6909.783015351506, \n",
      "          The cross validation decision tree regressor mse is: 7426.620755325711.\n",
      "With a minimum leaf number of 22, the decision tree regressor training mse of the model is: 6976.500748200691, \n",
      "          The cross validation decision tree regressor mse is: 7409.553943570815.\n",
      "With a minimum leaf number of 23, the decision tree regressor training mse of the model is: 7036.15065395193, \n",
      "          The cross validation decision tree regressor mse is: 7405.0285807600985.\n",
      "With a minimum leaf number of 24, the decision tree regressor training mse of the model is: 7082.880591563712, \n",
      "          The cross validation decision tree regressor mse is: 7428.327414348582.\n"
     ]
    }
   ],
   "metadata": {
    "collapsed": false
   }
  },
  {
   "cell_type": "code",
   "execution_count": 27,
   "source": [
    "plt.plot(range(1, 25), list_mse_forest_train, color = 'red', label = 'training error')\n",
    "plt.plot(range(1, 25), list_mse_forest_val, color = 'green', label = 'cross validation error')\n",
    "plt.xlabel('min_samples_leaf')\n",
    "plt.ylabel('mean squared error')\n",
    "plt.legend(loc = 'lower right')"
   ],
   "outputs": [
    {
     "output_type": "execute_result",
     "data": {
      "text/plain": [
       "<matplotlib.legend.Legend at 0x7fa7c9888ac8>"
      ]
     },
     "metadata": {},
     "execution_count": 27
    },
    {
     "output_type": "display_data",
     "data": {
      "text/plain": [
       "<matplotlib.figure.Figure at 0x7fa7c9944c50>"
      ],
      "image/png": "[encoded data removed]"
     },
     "metadata": {}
    }
   ],
   "metadata": {
    "collapsed": false
   }
  },
  {
   "cell_type": "code",
   "execution_count": null,
   "source": [],
   "outputs": [],
   "metadata": {
    "collapsed": true
   }
  }
 ],
 "metadata": {
  "kernelspec": {
   "display_name": "Python 3",
   "language": "python",
   "name": "python3"
  },
  "language_info": {
   "codemirror_mode": {
    "name": "ipython",
    "version": 3
   },
   "file_extension": ".py",
   "mimetype": "text/x-python",
   "name": "python",
   "nbconvert_exporter": "python",
   "pygments_lexer": "ipython3",
   "version": "3.4.3"
  }
 },
 "nbformat": 4,
 "nbformat_minor": 2
}