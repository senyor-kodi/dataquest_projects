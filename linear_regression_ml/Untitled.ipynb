{
 "cells": [
  {
   "cell_type": "markdown",
   "metadata": {},
   "source": [
    "# Preciting House Prices -v2\n",
    "\n",
    "In this notebook we will expand on the work done on the Dataquest guided project *Preciting House Prices*. \n",
    "\n",
    "The original [Ames Housing dataset](http://jse.amstat.org/v19n3/decock.pdf), compiled by Dean De Cock, was used in a Kaggle competition; [Kaggle](https://www.kaggle.com/) is an online community of data scientists and machine learning practitioners. We will expand on our work following the answers provided by some of the Kaggle users.   \n",
    "\n",
    "The Kaggle notebooks that we will be following are: \n",
    "- [Comprehensive data exploration with Python](https://www.kaggle.com/pmarcelino/comprehensive-data-exploration-with-python) by Pedro Marcelino, PhD\n",
    "- []()\n",
    "\n"
   ]
  },
  {
   "cell_type": "markdown",
   "metadata": {},
   "source": [
    "## Data exploration\n",
    "\n",
    "First, we will analyse the data following these steps:\n",
    "\n",
    "1. Understand the problem. We'll look at each variable and do a philosophical analysis about their meaning and importance for this problem.\n",
    "2. Univariable study. We'll just focus on the dependent variable ('SalePrice') and try to know a little bit more about it.\n",
    "3. Multivariate study. We'll try to understand how the dependent variable and independent variables relate.\n",
    "4. Basic cleaning. We'll clean the dataset and handle the missing data, outliers and categorical variables.\n",
    "5. Test assumptions. We'll check if our data meets the assumptions required by most multivariate techniques."
   ]
  },
  {
   "cell_type": "code",
   "execution_count": null,
   "metadata": {},
   "outputs": [],
   "source": [
    "import pandas as pd\n",
    "import matplotlib.pyplot as plt\n",
    "import seaborn as sns\n",
    "import numpy as np\n",
    "from scipy.stats import norm\n",
    "from sklearn.preprocessing import StandardScaler\n",
    "from scipy import stats\n",
    "import warnings\n",
    "warnings.filterwarnings('ignore')\n",
    "%matplotlib inline"
   ]
  }
 ],
 "metadata": {
  "kernelspec": {
   "display_name": "Python 3",
   "language": "python",
   "name": "python3"
  },
  "language_info": {
   "codemirror_mode": {
    "name": "ipython",
    "version": 3
   },
   "file_extension": ".py",
   "mimetype": "text/x-python",
   "name": "python",
   "nbconvert_exporter": "python",
   "pygments_lexer": "ipython3",
   "version": "3.9.2"
  }
 },
 "nbformat": 4,
 "nbformat_minor": 4
}
